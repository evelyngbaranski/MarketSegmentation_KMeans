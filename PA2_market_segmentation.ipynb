{
 "cells": [
  {
   "cell_type": "markdown",
   "metadata": {
    "id": "nzsNgzYZS9Ua"
   },
   "source": [
    "    #BA476 Machine Learning Practical Assignment 2 -  K-Means Clustering for Market Segmentation"
   ]
  },
  {
   "cell_type": "markdown",
   "metadata": {
    "id": "BPuvWpwKTYD6"
   },
   "source": [
    "The purpose of this assignment is to use K-Means Clustering to better understand customer behavior. In this assignment, we are taking a look at transaction data for a large e-Commerce company and trying to convert that transaction information into customer-level data for actionable insights. The goal of this assignment is to perform market segmentation based on purchase behaviour. \n",
    "\n",
    "We will use Pandas to manipulate dataframes, Scikit-learn to create the clusters, and Matplotlib for visualization. The deliverable for this assignment is  a PDF file that you will produce by converting your notebook to html and then printing the html page (as in PA1). As a reminder your notebook should contain all the code you used to generate your results – be sure to try writing concise code and comment out what you're doing to explain the code. Submit your PDF file on gradescope when you're done. \n",
    "\n"
   ]
  },
  {
   "cell_type": "markdown",
   "metadata": {
    "id": "_-ZJzE29UDTk"
   },
   "source": [
    "## Importing and cleaning data\n",
    "\n",
    "Get started by importing the necessary packages and  importing the dataset. "
   ]
  },
  {
   "cell_type": "code",
   "execution_count": 108,
   "metadata": {
    "id": "iSHPRIgk68AC"
   },
   "outputs": [],
   "source": [
    "import pandas as pd\n",
    "import numpy as np\n",
    "import matplotlib.pyplot as plt\n",
    "from sklearn import cluster\n",
    "from sklearn.cluster import KMeans\n",
    "\n",
    "#Create the initial dataframe from the UCI repository\n",
    "df = pd.read_excel(\"http://archive.ics.uci.edu/ml/machine-learning-databases/00352/Online%20Retail.xlsx\")\n",
    "\n",
    "#Online Retail.xlsx\n",
    "#http://archive.ics.uci.edu/ml/machine-learning-databases/00352/Online%20Retail.xlsx"
   ]
  },
  {
   "cell_type": "markdown",
   "metadata": {
    "id": "EMP8wcc2hr4l"
   },
   "source": [
    "Inspect the dataframe to understand the columns and rows. We have around half a million rows, end each row corresponds to  an item purchased by some customer. Notably, a row is *not* a transaction, you'll notice several rows share the same invoice number. "
   ]
  },
  {
   "cell_type": "code",
   "execution_count": 109,
   "metadata": {
    "colab": {
     "base_uri": "https://localhost:8080/",
     "height": 598
    },
    "id": "o-4QpBKa7eXx",
    "outputId": "64c487f9-ff7e-4c5c-ed27-8752b2d3382d",
    "scrolled": true
   },
   "outputs": [
    {
     "name": "stdout",
     "output_type": "stream",
     "text": [
      "(541909, 8)\n"
     ]
    },
    {
     "data": {
      "text/html": [
       "<div>\n",
       "<style scoped>\n",
       "    .dataframe tbody tr th:only-of-type {\n",
       "        vertical-align: middle;\n",
       "    }\n",
       "\n",
       "    .dataframe tbody tr th {\n",
       "        vertical-align: top;\n",
       "    }\n",
       "\n",
       "    .dataframe thead th {\n",
       "        text-align: right;\n",
       "    }\n",
       "</style>\n",
       "<table border=\"1\" class=\"dataframe\">\n",
       "  <thead>\n",
       "    <tr style=\"text-align: right;\">\n",
       "      <th></th>\n",
       "      <th>InvoiceNo</th>\n",
       "      <th>StockCode</th>\n",
       "      <th>Description</th>\n",
       "      <th>Quantity</th>\n",
       "      <th>InvoiceDate</th>\n",
       "      <th>UnitPrice</th>\n",
       "      <th>CustomerID</th>\n",
       "      <th>Country</th>\n",
       "    </tr>\n",
       "  </thead>\n",
       "  <tbody>\n",
       "    <tr>\n",
       "      <th>0</th>\n",
       "      <td>536365</td>\n",
       "      <td>85123A</td>\n",
       "      <td>WHITE HANGING HEART T-LIGHT HOLDER</td>\n",
       "      <td>6</td>\n",
       "      <td>2010-12-01 08:26:00</td>\n",
       "      <td>2.55</td>\n",
       "      <td>17850.0</td>\n",
       "      <td>United Kingdom</td>\n",
       "    </tr>\n",
       "    <tr>\n",
       "      <th>1</th>\n",
       "      <td>536365</td>\n",
       "      <td>71053</td>\n",
       "      <td>WHITE METAL LANTERN</td>\n",
       "      <td>6</td>\n",
       "      <td>2010-12-01 08:26:00</td>\n",
       "      <td>3.39</td>\n",
       "      <td>17850.0</td>\n",
       "      <td>United Kingdom</td>\n",
       "    </tr>\n",
       "    <tr>\n",
       "      <th>2</th>\n",
       "      <td>536365</td>\n",
       "      <td>84406B</td>\n",
       "      <td>CREAM CUPID HEARTS COAT HANGER</td>\n",
       "      <td>8</td>\n",
       "      <td>2010-12-01 08:26:00</td>\n",
       "      <td>2.75</td>\n",
       "      <td>17850.0</td>\n",
       "      <td>United Kingdom</td>\n",
       "    </tr>\n",
       "    <tr>\n",
       "      <th>3</th>\n",
       "      <td>536365</td>\n",
       "      <td>84029G</td>\n",
       "      <td>KNITTED UNION FLAG HOT WATER BOTTLE</td>\n",
       "      <td>6</td>\n",
       "      <td>2010-12-01 08:26:00</td>\n",
       "      <td>3.39</td>\n",
       "      <td>17850.0</td>\n",
       "      <td>United Kingdom</td>\n",
       "    </tr>\n",
       "    <tr>\n",
       "      <th>4</th>\n",
       "      <td>536365</td>\n",
       "      <td>84029E</td>\n",
       "      <td>RED WOOLLY HOTTIE WHITE HEART.</td>\n",
       "      <td>6</td>\n",
       "      <td>2010-12-01 08:26:00</td>\n",
       "      <td>3.39</td>\n",
       "      <td>17850.0</td>\n",
       "      <td>United Kingdom</td>\n",
       "    </tr>\n",
       "    <tr>\n",
       "      <th>5</th>\n",
       "      <td>536365</td>\n",
       "      <td>22752</td>\n",
       "      <td>SET 7 BABUSHKA NESTING BOXES</td>\n",
       "      <td>2</td>\n",
       "      <td>2010-12-01 08:26:00</td>\n",
       "      <td>7.65</td>\n",
       "      <td>17850.0</td>\n",
       "      <td>United Kingdom</td>\n",
       "    </tr>\n",
       "    <tr>\n",
       "      <th>6</th>\n",
       "      <td>536365</td>\n",
       "      <td>21730</td>\n",
       "      <td>GLASS STAR FROSTED T-LIGHT HOLDER</td>\n",
       "      <td>6</td>\n",
       "      <td>2010-12-01 08:26:00</td>\n",
       "      <td>4.25</td>\n",
       "      <td>17850.0</td>\n",
       "      <td>United Kingdom</td>\n",
       "    </tr>\n",
       "    <tr>\n",
       "      <th>7</th>\n",
       "      <td>536366</td>\n",
       "      <td>22633</td>\n",
       "      <td>HAND WARMER UNION JACK</td>\n",
       "      <td>6</td>\n",
       "      <td>2010-12-01 08:28:00</td>\n",
       "      <td>1.85</td>\n",
       "      <td>17850.0</td>\n",
       "      <td>United Kingdom</td>\n",
       "    </tr>\n",
       "    <tr>\n",
       "      <th>8</th>\n",
       "      <td>536366</td>\n",
       "      <td>22632</td>\n",
       "      <td>HAND WARMER RED POLKA DOT</td>\n",
       "      <td>6</td>\n",
       "      <td>2010-12-01 08:28:00</td>\n",
       "      <td>1.85</td>\n",
       "      <td>17850.0</td>\n",
       "      <td>United Kingdom</td>\n",
       "    </tr>\n",
       "    <tr>\n",
       "      <th>9</th>\n",
       "      <td>536367</td>\n",
       "      <td>84879</td>\n",
       "      <td>ASSORTED COLOUR BIRD ORNAMENT</td>\n",
       "      <td>32</td>\n",
       "      <td>2010-12-01 08:34:00</td>\n",
       "      <td>1.69</td>\n",
       "      <td>13047.0</td>\n",
       "      <td>United Kingdom</td>\n",
       "    </tr>\n",
       "  </tbody>\n",
       "</table>\n",
       "</div>"
      ],
      "text/plain": [
       "  InvoiceNo StockCode                          Description  Quantity  \\\n",
       "0    536365    85123A   WHITE HANGING HEART T-LIGHT HOLDER         6   \n",
       "1    536365     71053                  WHITE METAL LANTERN         6   \n",
       "2    536365    84406B       CREAM CUPID HEARTS COAT HANGER         8   \n",
       "3    536365    84029G  KNITTED UNION FLAG HOT WATER BOTTLE         6   \n",
       "4    536365    84029E       RED WOOLLY HOTTIE WHITE HEART.         6   \n",
       "5    536365     22752         SET 7 BABUSHKA NESTING BOXES         2   \n",
       "6    536365     21730    GLASS STAR FROSTED T-LIGHT HOLDER         6   \n",
       "7    536366     22633               HAND WARMER UNION JACK         6   \n",
       "8    536366     22632            HAND WARMER RED POLKA DOT         6   \n",
       "9    536367     84879        ASSORTED COLOUR BIRD ORNAMENT        32   \n",
       "\n",
       "          InvoiceDate  UnitPrice  CustomerID         Country  \n",
       "0 2010-12-01 08:26:00       2.55     17850.0  United Kingdom  \n",
       "1 2010-12-01 08:26:00       3.39     17850.0  United Kingdom  \n",
       "2 2010-12-01 08:26:00       2.75     17850.0  United Kingdom  \n",
       "3 2010-12-01 08:26:00       3.39     17850.0  United Kingdom  \n",
       "4 2010-12-01 08:26:00       3.39     17850.0  United Kingdom  \n",
       "5 2010-12-01 08:26:00       7.65     17850.0  United Kingdom  \n",
       "6 2010-12-01 08:26:00       4.25     17850.0  United Kingdom  \n",
       "7 2010-12-01 08:28:00       1.85     17850.0  United Kingdom  \n",
       "8 2010-12-01 08:28:00       1.85     17850.0  United Kingdom  \n",
       "9 2010-12-01 08:34:00       1.69     13047.0  United Kingdom  "
      ]
     },
     "execution_count": 109,
     "metadata": {},
     "output_type": "execute_result"
    }
   ],
   "source": [
    "print(df.shape)\n",
    "df.head(10)\n"
   ]
  },
  {
   "cell_type": "markdown",
   "metadata": {
    "id": "u4TBpB3mVxg1"
   },
   "source": [
    "Check the dataframe for null entries in each column."
   ]
  },
  {
   "cell_type": "code",
   "execution_count": 140,
   "metadata": {
    "colab": {
     "base_uri": "https://localhost:8080/"
    },
    "id": "w8V6e3yaiJiL",
    "outputId": "41196ec7-8a2a-4391-df9e-022fcec9f2eb"
   },
   "outputs": [
    {
     "data": {
      "text/plain": [
       "InvoiceNo      0\n",
       "StockCode      0\n",
       "Description    0\n",
       "Quantity       0\n",
       "InvoiceDate    0\n",
       "UnitPrice      0\n",
       "CustomerID     0\n",
       "Country        0\n",
       "Sales          0\n",
       "dtype: int64"
      ]
     },
     "execution_count": 140,
     "metadata": {},
     "output_type": "execute_result"
    }
   ],
   "source": [
    "#Check for null values in the dataframe by column\n",
    "df.isnull().sum()"
   ]
  },
  {
   "cell_type": "markdown",
   "metadata": {
    "id": "V_oTtFalh5ez"
   },
   "source": [
    "###Cleaning the Data (3 Points)\n",
    "\n",
    "Remove cancelled orders (quantity<=0), orders with no description (description = \"\"), and records without a customerID.  "
   ]
  },
  {
   "cell_type": "code",
   "execution_count": 141,
   "metadata": {
    "id": "ZITUOwf076zy"
   },
   "outputs": [
    {
     "data": {
      "text/plain": [
       "InvoiceNo      0\n",
       "StockCode      0\n",
       "Description    0\n",
       "Quantity       0\n",
       "InvoiceDate    0\n",
       "UnitPrice      0\n",
       "CustomerID     0\n",
       "Country        0\n",
       "Sales          0\n",
       "dtype: int64"
      ]
     },
     "execution_count": 141,
     "metadata": {},
     "output_type": "execute_result"
    }
   ],
   "source": [
    "# (2 points)\n",
    "\n",
    "#making copy of df\n",
    "df_copy = df\n",
    "\n",
    "\n",
    "# Drop cancelled orders \n",
    "index_num = df[df[\"Quantity\"] <= 0].index\n",
    "df = df.drop(index_num)\n",
    "\n",
    "\n",
    "# Drop blank descriptions since we do not know what the customer ordered \n",
    "df = df.dropna(subset = ['Description']) \n",
    "index_blank = df[df[\"Description\"] == ''].index\n",
    "df = df.drop(index_blank)\n",
    "\n",
    "# Drop records without CustomerID \n",
    "df = df.dropna(subset = ['CustomerID'])\n",
    "index_blank = df[df[\"CustomerID\"] == ''].index\n",
    "df = df.drop(index_blank)\n",
    "\n",
    "\n",
    "df.head()\n",
    "df.isnull().sum()"
   ]
  },
  {
   "cell_type": "markdown",
   "metadata": {
    "id": "xQUrZZqnWMHB"
   },
   "source": [
    "Add a column with the total revenue (sales price) per row (quantity sold times price per unit). "
   ]
  },
  {
   "cell_type": "code",
   "execution_count": 142,
   "metadata": {
    "colab": {
     "base_uri": "https://localhost:8080/",
     "height": 204
    },
    "id": "VREkAMS9TbV-",
    "outputId": "eb3a4b45-f8c1-46f8-ab13-53b4235bb944"
   },
   "outputs": [
    {
     "data": {
      "text/html": [
       "<div>\n",
       "<style scoped>\n",
       "    .dataframe tbody tr th:only-of-type {\n",
       "        vertical-align: middle;\n",
       "    }\n",
       "\n",
       "    .dataframe tbody tr th {\n",
       "        vertical-align: top;\n",
       "    }\n",
       "\n",
       "    .dataframe thead th {\n",
       "        text-align: right;\n",
       "    }\n",
       "</style>\n",
       "<table border=\"1\" class=\"dataframe\">\n",
       "  <thead>\n",
       "    <tr style=\"text-align: right;\">\n",
       "      <th></th>\n",
       "      <th>InvoiceNo</th>\n",
       "      <th>StockCode</th>\n",
       "      <th>Description</th>\n",
       "      <th>Quantity</th>\n",
       "      <th>InvoiceDate</th>\n",
       "      <th>UnitPrice</th>\n",
       "      <th>CustomerID</th>\n",
       "      <th>Country</th>\n",
       "      <th>Sales</th>\n",
       "    </tr>\n",
       "  </thead>\n",
       "  <tbody>\n",
       "    <tr>\n",
       "      <th>0</th>\n",
       "      <td>536365</td>\n",
       "      <td>85123A</td>\n",
       "      <td>WHITE HANGING HEART T-LIGHT HOLDER</td>\n",
       "      <td>6</td>\n",
       "      <td>2010-12-01 08:26:00</td>\n",
       "      <td>2.55</td>\n",
       "      <td>17850.0</td>\n",
       "      <td>United Kingdom</td>\n",
       "      <td>15.30</td>\n",
       "    </tr>\n",
       "    <tr>\n",
       "      <th>1</th>\n",
       "      <td>536365</td>\n",
       "      <td>71053</td>\n",
       "      <td>WHITE METAL LANTERN</td>\n",
       "      <td>6</td>\n",
       "      <td>2010-12-01 08:26:00</td>\n",
       "      <td>3.39</td>\n",
       "      <td>17850.0</td>\n",
       "      <td>United Kingdom</td>\n",
       "      <td>20.34</td>\n",
       "    </tr>\n",
       "    <tr>\n",
       "      <th>2</th>\n",
       "      <td>536365</td>\n",
       "      <td>84406B</td>\n",
       "      <td>CREAM CUPID HEARTS COAT HANGER</td>\n",
       "      <td>8</td>\n",
       "      <td>2010-12-01 08:26:00</td>\n",
       "      <td>2.75</td>\n",
       "      <td>17850.0</td>\n",
       "      <td>United Kingdom</td>\n",
       "      <td>22.00</td>\n",
       "    </tr>\n",
       "    <tr>\n",
       "      <th>3</th>\n",
       "      <td>536365</td>\n",
       "      <td>84029G</td>\n",
       "      <td>KNITTED UNION FLAG HOT WATER BOTTLE</td>\n",
       "      <td>6</td>\n",
       "      <td>2010-12-01 08:26:00</td>\n",
       "      <td>3.39</td>\n",
       "      <td>17850.0</td>\n",
       "      <td>United Kingdom</td>\n",
       "      <td>20.34</td>\n",
       "    </tr>\n",
       "    <tr>\n",
       "      <th>4</th>\n",
       "      <td>536365</td>\n",
       "      <td>84029E</td>\n",
       "      <td>RED WOOLLY HOTTIE WHITE HEART.</td>\n",
       "      <td>6</td>\n",
       "      <td>2010-12-01 08:26:00</td>\n",
       "      <td>3.39</td>\n",
       "      <td>17850.0</td>\n",
       "      <td>United Kingdom</td>\n",
       "      <td>20.34</td>\n",
       "    </tr>\n",
       "  </tbody>\n",
       "</table>\n",
       "</div>"
      ],
      "text/plain": [
       "  InvoiceNo StockCode                          Description  Quantity  \\\n",
       "0    536365    85123A   WHITE HANGING HEART T-LIGHT HOLDER         6   \n",
       "1    536365     71053                  WHITE METAL LANTERN         6   \n",
       "2    536365    84406B       CREAM CUPID HEARTS COAT HANGER         8   \n",
       "3    536365    84029G  KNITTED UNION FLAG HOT WATER BOTTLE         6   \n",
       "4    536365    84029E       RED WOOLLY HOTTIE WHITE HEART.         6   \n",
       "\n",
       "          InvoiceDate  UnitPrice  CustomerID         Country  Sales  \n",
       "0 2010-12-01 08:26:00       2.55     17850.0  United Kingdom  15.30  \n",
       "1 2010-12-01 08:26:00       3.39     17850.0  United Kingdom  20.34  \n",
       "2 2010-12-01 08:26:00       2.75     17850.0  United Kingdom  22.00  \n",
       "3 2010-12-01 08:26:00       3.39     17850.0  United Kingdom  20.34  \n",
       "4 2010-12-01 08:26:00       3.39     17850.0  United Kingdom  20.34  "
      ]
     },
     "execution_count": 142,
     "metadata": {},
     "output_type": "execute_result"
    }
   ],
   "source": [
    "# Calculate total sales from the Quantity and UnitPrice\n",
    "\n",
    "df[\"Sales\"] = df[\"Quantity\"] * df[\"UnitPrice\"]\n",
    "\n",
    "df.head()"
   ]
  },
  {
   "cell_type": "markdown",
   "metadata": {
    "id": "1eBWo_d1pG6n"
   },
   "source": [
    "###Create a dataframe at the invoice level  (3 Points)\n",
    "Ultimately we want to say something about customers but first, let's investigate at the order/invoice level. Aggregate the data so that you have a new dataframe with one row per invoice. Keep track of the value of each transaction, the number of unique items sold, the total number of items sold and the customer who bought it. Remember to set your column names appropriately. "
   ]
  },
  {
   "cell_type": "code",
   "execution_count": 143,
   "metadata": {
    "colab": {
     "base_uri": "https://localhost:8080/",
     "height": 204
    },
    "id": "pNlhHW8qUVAf",
    "outputId": "408c9957-b9c7-4455-b714-ab29d4e5fb10"
   },
   "outputs": [
    {
     "data": {
      "text/html": [
       "<div>\n",
       "<style scoped>\n",
       "    .dataframe tbody tr th:only-of-type {\n",
       "        vertical-align: middle;\n",
       "    }\n",
       "\n",
       "    .dataframe tbody tr th {\n",
       "        vertical-align: top;\n",
       "    }\n",
       "\n",
       "    .dataframe thead th {\n",
       "        text-align: right;\n",
       "    }\n",
       "</style>\n",
       "<table border=\"1\" class=\"dataframe\">\n",
       "  <thead>\n",
       "    <tr style=\"text-align: right;\">\n",
       "      <th></th>\n",
       "      <th>InvoiceNo</th>\n",
       "      <th>Sales</th>\n",
       "      <th>UniqueItems</th>\n",
       "      <th>TotalItems</th>\n",
       "      <th>CustomerID</th>\n",
       "    </tr>\n",
       "  </thead>\n",
       "  <tbody>\n",
       "    <tr>\n",
       "      <th>0</th>\n",
       "      <td>536365</td>\n",
       "      <td>139.12</td>\n",
       "      <td>7</td>\n",
       "      <td>40</td>\n",
       "      <td>17850.0</td>\n",
       "    </tr>\n",
       "    <tr>\n",
       "      <th>1</th>\n",
       "      <td>536366</td>\n",
       "      <td>22.20</td>\n",
       "      <td>2</td>\n",
       "      <td>12</td>\n",
       "      <td>17850.0</td>\n",
       "    </tr>\n",
       "    <tr>\n",
       "      <th>2</th>\n",
       "      <td>536367</td>\n",
       "      <td>278.73</td>\n",
       "      <td>12</td>\n",
       "      <td>83</td>\n",
       "      <td>13047.0</td>\n",
       "    </tr>\n",
       "    <tr>\n",
       "      <th>3</th>\n",
       "      <td>536368</td>\n",
       "      <td>70.05</td>\n",
       "      <td>4</td>\n",
       "      <td>15</td>\n",
       "      <td>13047.0</td>\n",
       "    </tr>\n",
       "    <tr>\n",
       "      <th>4</th>\n",
       "      <td>536369</td>\n",
       "      <td>17.85</td>\n",
       "      <td>1</td>\n",
       "      <td>3</td>\n",
       "      <td>13047.0</td>\n",
       "    </tr>\n",
       "  </tbody>\n",
       "</table>\n",
       "</div>"
      ],
      "text/plain": [
       "   InvoiceNo   Sales  UniqueItems  TotalItems  CustomerID\n",
       "0     536365  139.12            7          40     17850.0\n",
       "1     536366   22.20            2          12     17850.0\n",
       "2     536367  278.73           12          83     13047.0\n",
       "3     536368   70.05            4          15     13047.0\n",
       "4     536369   17.85            1           3     13047.0"
      ]
     },
     "execution_count": 143,
     "metadata": {},
     "output_type": "execute_result"
    }
   ],
   "source": [
    "order_df_colnames = ['InvoiceNo', 'Sales', 'UniqueItems', 'TotalItems', 'CustomerID']\n",
    "# Create order_df grouping by InvoiceNo \n",
    "# Use an agg function to create Sales, StockCode, Quantity, and CustomerID as are described above\n",
    "\n",
    "order_df = df.groupby('InvoiceNo', as_index=False).agg({\n",
    "    'Sales':sum,\n",
    "    'StockCode':pd.Series.nunique,\n",
    "    'Quantity':sum,\n",
    "    'CustomerID':min\n",
    "})\n",
    "\n",
    "\n",
    "\n",
    "order_df.columns = order_df_colnames\n",
    "order_df.head()"
   ]
  },
  {
   "cell_type": "markdown",
   "metadata": {
    "id": "wFKlB2InxSgr"
   },
   "source": [
    "###Visualize the order data and remove excessively large purchases (3 points)\n",
    "Create a scatter plot of your new dataframe, with total items on the X axis and Sales on the Y axis. You will use this to visualize outliers before removing them. Once you see the plot, you should be able to filter the dataframe on each axis to remove the clear outliers. We chose the Sales and TotalItems axes because we wanted to omit orders where the total sales was extreme or orders with an extreme number of items. The only other column to consider here would be uniqueitems and we do not consider it because the totalitems column already does the same job and intuitively, we want to know total sales and total items. "
   ]
  },
  {
   "cell_type": "code",
   "execution_count": 144,
   "metadata": {
    "colab": {
     "base_uri": "https://localhost:8080/",
     "height": 298
    },
    "id": "J_rdGW-JWRRk",
    "outputId": "94418f87-e8fb-455d-c65b-95b63de8c235"
   },
   "outputs": [
    {
     "data": {
      "image/png": "[encoded data removed]",
      "text/plain": [
       "<Figure size 432x288 with 1 Axes>"
      ]
     },
     "metadata": {
      "needs_background": "light"
     },
     "output_type": "display_data"
    }
   ],
   "source": [
    "#Create a scatter plot\n",
    "x = order_df[\"TotalItems\"]\n",
    "y = order_df[\"Sales\"]\n",
    "plt.scatter(x, y)\n",
    "plt.xlabel('TotalItems')\n",
    "plt.ylabel('Sales')\n",
    "plt.show()\n"
   ]
  },
  {
   "cell_type": "markdown",
   "metadata": {
    "id": "0gkFuX9XFcac"
   },
   "source": [
    "Remove outliers on both axes from the dataframe, then add labels and reprint the chart with a clearer look at the data's behavior."
   ]
  },
  {
   "cell_type": "code",
   "execution_count": 145,
   "metadata": {
    "colab": {
     "base_uri": "https://localhost:8080/",
     "height": 296
    },
    "id": "6_bG0xVeWopu",
    "outputId": "67581bd4-9a18-42a7-ec44-205f6c084b24"
   },
   "outputs": [
    {
     "data": {
      "image/png": "[encoded data removed]",
      "text/plain": [
       "<Figure size 432x288 with 1 Axes>"
      ]
     },
     "metadata": {
      "needs_background": "light"
     },
     "output_type": "display_data"
    },
    {
     "name": "stdout",
     "output_type": "stream",
     "text": [
      "18532\n"
     ]
    }
   ],
   "source": [
    "#Given the plot above remove outliers on both the totalitems and sales axis\n",
    "\n",
    "#Remove totalitems outliers in order_df using the scatter plot\n",
    "order_df = order_df.loc[order_df['TotalItems'] <= 60000]\n",
    "\n",
    "#Remove sales outliers in order_df using the scatter plot\n",
    "order_df = order_df.loc[order_df['Sales'] <= 30000]\n",
    "\n",
    "# after filtering, my order_df has 18532 rows\n",
    "\n",
    "x = order_df[\"TotalItems\"]\n",
    "y = order_df[\"Sales\"]\n",
    "plt.scatter(x, y)\n",
    "plt.xlabel('TotalItems')\n",
    "plt.ylabel('Sales')\n",
    "plt.show()\n",
    "\n",
    "print(len(order_df.index))"
   ]
  },
  {
   "cell_type": "markdown",
   "metadata": {
    "id": "Fe6t5CeSFmLv"
   },
   "source": [
    "###Create a customer dataframe and remove outliers using IQR (11 Points)\n",
    "Create a new dataframe at the customer level using the order dataframe. You can use the invoice dataframe for reference as the process is similar. Columns included should be (1) the total dollar amount of 'sales' across orders, (2) the number of different orders by the customer, (3) the average number of unique items in an order, and (4) the total items ordered across all orders."
   ]
  },
  {
   "cell_type": "code",
   "execution_count": 146,
   "metadata": {
    "id": "t7haDK3_XGA2"
   },
   "outputs": [
    {
     "data": {
      "text/html": [
       "<div>\n",
       "<style scoped>\n",
       "    .dataframe tbody tr th:only-of-type {\n",
       "        vertical-align: middle;\n",
       "    }\n",
       "\n",
       "    .dataframe tbody tr th {\n",
       "        vertical-align: top;\n",
       "    }\n",
       "\n",
       "    .dataframe thead th {\n",
       "        text-align: right;\n",
       "    }\n",
       "</style>\n",
       "<table border=\"1\" class=\"dataframe\">\n",
       "  <thead>\n",
       "    <tr style=\"text-align: right;\">\n",
       "      <th></th>\n",
       "      <th>TotalSales</th>\n",
       "      <th>OrderCount</th>\n",
       "      <th>AvgUniqueItems</th>\n",
       "      <th>TotalItems</th>\n",
       "    </tr>\n",
       "    <tr>\n",
       "      <th>CustomerID</th>\n",
       "      <th></th>\n",
       "      <th></th>\n",
       "      <th></th>\n",
       "      <th></th>\n",
       "    </tr>\n",
       "  </thead>\n",
       "  <tbody>\n",
       "    <tr>\n",
       "      <th>18280.0</th>\n",
       "      <td>180.60</td>\n",
       "      <td>1</td>\n",
       "      <td>10.000000</td>\n",
       "      <td>45</td>\n",
       "    </tr>\n",
       "    <tr>\n",
       "      <th>18281.0</th>\n",
       "      <td>80.82</td>\n",
       "      <td>1</td>\n",
       "      <td>7.000000</td>\n",
       "      <td>54</td>\n",
       "    </tr>\n",
       "    <tr>\n",
       "      <th>18282.0</th>\n",
       "      <td>178.05</td>\n",
       "      <td>2</td>\n",
       "      <td>6.000000</td>\n",
       "      <td>103</td>\n",
       "    </tr>\n",
       "    <tr>\n",
       "      <th>18283.0</th>\n",
       "      <td>2094.88</td>\n",
       "      <td>16</td>\n",
       "      <td>43.062500</td>\n",
       "      <td>1397</td>\n",
       "    </tr>\n",
       "    <tr>\n",
       "      <th>18287.0</th>\n",
       "      <td>1837.28</td>\n",
       "      <td>3</td>\n",
       "      <td>22.666667</td>\n",
       "      <td>1586</td>\n",
       "    </tr>\n",
       "  </tbody>\n",
       "</table>\n",
       "</div>"
      ],
      "text/plain": [
       "            TotalSales  OrderCount  AvgUniqueItems  TotalItems\n",
       "CustomerID                                                    \n",
       "18280.0         180.60           1       10.000000          45\n",
       "18281.0          80.82           1        7.000000          54\n",
       "18282.0         178.05           2        6.000000         103\n",
       "18283.0        2094.88          16       43.062500        1397\n",
       "18287.0        1837.28           3       22.666667        1586"
      ]
     },
     "execution_count": 146,
     "metadata": {},
     "output_type": "execute_result"
    }
   ],
   "source": [
    "cust_df_colnames = ['TotalSales', 'OrderCount', 'AvgUniqueItems', 'TotalItems']\n",
    "\n",
    "#Create the customer dataframe\n",
    "customer_df = order_df.groupby(['CustomerID']).agg({\n",
    "    'Sales':sum,\n",
    "    'InvoiceNo': pd.Series.count,\n",
    "    'UniqueItems':sum,\n",
    "    'TotalItems':sum\n",
    "})\n",
    "\n",
    "customer_df['UniqueItems'] = customer_df['UniqueItems'] / customer_df['InvoiceNo']\n",
    "\n",
    "\n",
    "#Add titles to the columns you included\n",
    "customer_df.columns = cust_df_colnames\n",
    "customer_df.tail()\n",
    "\n"
   ]
  },
  {
   "cell_type": "markdown",
   "metadata": {
    "id": "C_-0UImNb5Ys"
   },
   "source": [
    "Now add a new column showing each customer's average order value. "
   ]
  },
  {
   "cell_type": "code",
   "execution_count": 147,
   "metadata": {
    "id": "ToovcMCRb3pQ"
   },
   "outputs": [
    {
     "data": {
      "text/plain": [
       "4338"
      ]
     },
     "execution_count": 147,
     "metadata": {},
     "output_type": "execute_result"
    }
   ],
   "source": [
    "#Create a new column, AvgOrderValue (total sales divided by # orders per customer\n",
    "\n",
    "customer_df['AvgOrderValue'] = customer_df['TotalSales'] / customer_df['OrderCount']\n",
    "\n",
    "customer_df\n",
    "\n",
    "len(customer_df)"
   ]
  },
  {
   "cell_type": "markdown",
   "metadata": {
    "id": "8PahRR0a4te8"
   },
   "source": [
    "Now, create a scatter plot with total sales on the x axis and order count on the y axis to check for outliers"
   ]
  },
  {
   "cell_type": "code",
   "execution_count": 148,
   "metadata": {
    "colab": {
     "base_uri": "https://localhost:8080/",
     "height": 296
    },
    "id": "WQnuRmvX2-5X",
    "outputId": "409f266c-802e-450c-8d5c-987d50306716",
    "scrolled": true
   },
   "outputs": [
    {
     "name": "stdout",
     "output_type": "stream",
     "text": [
      "(4338, 5)\n"
     ]
    },
    {
     "data": {
      "image/png": "[encoded data removed]",
      "text/plain": [
       "<Figure size 432x288 with 1 Axes>"
      ]
     },
     "metadata": {
      "needs_background": "light"
     },
     "output_type": "display_data"
    }
   ],
   "source": [
    "#Create a scatter plot of total sales and order count to visualize our current data  \n",
    "customer_df.plot.scatter(x='TotalSales', y ='OrderCount')\n",
    "print(customer_df.shape)\n",
    "plt.show()"
   ]
  },
  {
   "cell_type": "markdown",
   "metadata": {
    "id": "j4HcGRwVc8B6"
   },
   "source": [
    "This time, let's calculate the interquartile range (IQR), the difference between the upper and lower quartiles, and use this to compute lower (upper)bounds on the `Sales` column equal to the $Q_1 - 1.5\\times IQR\\,\\,$ (and $Q_3 + 1.5\\times IQR$, respectively)."
   ]
  },
  {
   "cell_type": "code",
   "execution_count": 149,
   "metadata": {
    "colab": {
     "base_uri": "https://localhost:8080/"
    },
    "id": "_XeMCwbc-7jS",
    "outputId": "3a80795c-d7a9-4ab3-f7e9-04b308e0ef37"
   },
   "outputs": [
    {
     "name": "stdout",
     "output_type": "stream",
     "text": [
      "-1723.9362500000002 3691.99375\n",
      "1353.9825\n",
      "1661.02 307.03749999999997\n"
     ]
    }
   ],
   "source": [
    "#Instead of using a visual heuristic and boxplot, let's try implementing IQR to detect our outliers.\n",
    "sales_quartile_75, sales_quartile_25 = np.quantile(customer_df['TotalSales'], .75), np.quantile(customer_df['TotalSales'], .25)\n",
    "\n",
    "sales_iqr =  sales_quartile_75 - sales_quartile_25\n",
    "\n",
    "sales_top_bound, sales_bottom_bound =  (sales_quartile_75 + 1.5*sales_iqr), (sales_quartile_25 - (1.5 * sales_iqr))\n",
    "\n",
    "print(sales_bottom_bound, sales_top_bound)\n",
    "\n",
    "\n",
    "#-1723.9362500000002 -1723.9362500000002"
   ]
  },
  {
   "cell_type": "markdown",
   "metadata": {
    "id": "IYaRlDQaewCy"
   },
   "source": [
    "Now, repeat the process to compute similar bounds on the number of orders per customer. "
   ]
  },
  {
   "cell_type": "code",
   "execution_count": 150,
   "metadata": {
    "colab": {
     "base_uri": "https://localhost:8080/"
    },
    "id": "fZopH8iBCCpP",
    "outputId": "e8b6c6a2-e395-4bd1-d082-c22f32623409"
   },
   "outputs": [
    {
     "name": "stdout",
     "output_type": "stream",
     "text": [
      "-5.0 11.0\n",
      "5.0 1.0\n"
     ]
    }
   ],
   "source": [
    "#Instead of using a visual heuristic and boxplot, let's try implementing IQR to detect our outliers.\n",
    "\n",
    "order_quartile_75, order_quartile_25 = np.percentile(customer_df[\"OrderCount\"], [75 ,25])\n",
    "\n",
    "order_iqr =  order_quartile_75 - order_quartile_25\n",
    "\n",
    "order_top_bound, order_bottom_bound =  order_quartile_75 + (1.5 * order_iqr), order_quartile_25 - (1.5 * order_iqr)\n",
    "\n",
    "print(order_bottom_bound, order_top_bound)\n",
    "print(order_quartile_75, order_quartile_25)"
   ]
  },
  {
   "cell_type": "markdown",
   "metadata": {
    "id": "reBAn_ld40VV"
   },
   "source": [
    "Now, filter the dateframe to exclude rows where the orders or sales value exceed the bounds you computed. "
   ]
  },
  {
   "cell_type": "code",
   "execution_count": 151,
   "metadata": {
    "id": "ExSPJuKU187Z"
   },
   "outputs": [
    {
     "data": {
      "text/html": [
       "<div>\n",
       "<style scoped>\n",
       "    .dataframe tbody tr th:only-of-type {\n",
       "        vertical-align: middle;\n",
       "    }\n",
       "\n",
       "    .dataframe tbody tr th {\n",
       "        vertical-align: top;\n",
       "    }\n",
       "\n",
       "    .dataframe thead th {\n",
       "        text-align: right;\n",
       "    }\n",
       "</style>\n",
       "<table border=\"1\" class=\"dataframe\">\n",
       "  <thead>\n",
       "    <tr style=\"text-align: right;\">\n",
       "      <th></th>\n",
       "      <th>TotalSales</th>\n",
       "      <th>OrderCount</th>\n",
       "      <th>AvgUniqueItems</th>\n",
       "      <th>TotalItems</th>\n",
       "      <th>AvgOrderValue</th>\n",
       "    </tr>\n",
       "    <tr>\n",
       "      <th>CustomerID</th>\n",
       "      <th></th>\n",
       "      <th></th>\n",
       "      <th></th>\n",
       "      <th></th>\n",
       "      <th></th>\n",
       "    </tr>\n",
       "  </thead>\n",
       "  <tbody>\n",
       "    <tr>\n",
       "      <th>12348.0</th>\n",
       "      <td>1797.24</td>\n",
       "      <td>4</td>\n",
       "      <td>6.750</td>\n",
       "      <td>2341</td>\n",
       "      <td>449.310</td>\n",
       "    </tr>\n",
       "    <tr>\n",
       "      <th>12349.0</th>\n",
       "      <td>1757.55</td>\n",
       "      <td>1</td>\n",
       "      <td>73.000</td>\n",
       "      <td>631</td>\n",
       "      <td>1757.550</td>\n",
       "    </tr>\n",
       "    <tr>\n",
       "      <th>12350.0</th>\n",
       "      <td>334.40</td>\n",
       "      <td>1</td>\n",
       "      <td>17.000</td>\n",
       "      <td>197</td>\n",
       "      <td>334.400</td>\n",
       "    </tr>\n",
       "    <tr>\n",
       "      <th>12352.0</th>\n",
       "      <td>2506.04</td>\n",
       "      <td>8</td>\n",
       "      <td>10.375</td>\n",
       "      <td>536</td>\n",
       "      <td>313.255</td>\n",
       "    </tr>\n",
       "    <tr>\n",
       "      <th>12353.0</th>\n",
       "      <td>89.00</td>\n",
       "      <td>1</td>\n",
       "      <td>4.000</td>\n",
       "      <td>20</td>\n",
       "      <td>89.000</td>\n",
       "    </tr>\n",
       "  </tbody>\n",
       "</table>\n",
       "</div>"
      ],
      "text/plain": [
       "            TotalSales  OrderCount  AvgUniqueItems  TotalItems  AvgOrderValue\n",
       "CustomerID                                                                   \n",
       "12348.0        1797.24           4           6.750        2341        449.310\n",
       "12349.0        1757.55           1          73.000         631       1757.550\n",
       "12350.0         334.40           1          17.000         197        334.400\n",
       "12352.0        2506.04           8          10.375         536        313.255\n",
       "12353.0          89.00           1           4.000          20         89.000"
      ]
     },
     "execution_count": 151,
     "metadata": {},
     "output_type": "execute_result"
    }
   ],
   "source": [
    "customer_df = customer_df[customer_df[\"OrderCount\"].between(order_bottom_bound, order_top_bound, inclusive = \"neither\")]\n",
    "customer_df = customer_df[customer_df[\"TotalSales\"].between(sales_bottom_bound, sales_top_bound, inclusive = \"neither\")]\n",
    "\n",
    "customer_df.head()"
   ]
  },
  {
   "cell_type": "markdown",
   "metadata": {
    "id": "fOxjumb9l34O"
   },
   "source": [
    "Visualize your data. Notice what outliers were removed."
   ]
  },
  {
   "cell_type": "code",
   "execution_count": 152,
   "metadata": {
    "id": "H1cqJ3udl8G4"
   },
   "outputs": [
    {
     "name": "stdout",
     "output_type": "stream",
     "text": [
      "(3841, 5)\n"
     ]
    },
    {
     "data": {
      "image/png": "[encoded data removed]",
      "text/plain": [
       "<Figure size 432x288 with 1 Axes>"
      ]
     },
     "metadata": {
      "needs_background": "light"
     },
     "output_type": "display_data"
    }
   ],
   "source": [
    "#plotting your data\n",
    "customer_df.plot.scatter(x='TotalSales', y='OrderCount')\n",
    "print(customer_df.shape)"
   ]
  },
  {
   "cell_type": "markdown",
   "metadata": {
    "id": "TZeMNxF05IF-"
   },
   "source": [
    "Finally, create a normalized dataframe, by standardizing each column of cust_df (subtract the mean, scale by the standard deviation). You should be able to do this in one line of code. "
   ]
  },
  {
   "cell_type": "code",
   "execution_count": 153,
   "metadata": {
    "id": "YNsbeHf4Qgxs"
   },
   "outputs": [],
   "source": [
    "#Create normalized_df, a normalized version of cust_df\n",
    "normalized_df = (customer_df - customer_df.mean())/customer_df.std()\n"
   ]
  },
  {
   "cell_type": "markdown",
   "metadata": {
    "id": "eMvs4cNh0E3u"
   },
   "source": [
    "You'll notice that we were pretty aggressive in removing outliers, we went from 4338 customers to 3841. It'll help us get cleaner clusters later for the purpose of this exercise, but in practice we should be more careful. "
   ]
  },
  {
   "cell_type": "markdown",
   "metadata": {
    "id": "LCurOcuO5nzy"
   },
   "source": [
    "##  K-Means Clustering Algorithm  (5 points)\n",
    "\n",
    "We don't know how many clusters is appropriate, so we will do $k$-means clustering for $k \\in [2, 3, \\ldots, 15]$ and use the [silhouette-score](https://scikit-learn.org/stable/modules/generated/sklearn.metrics.silhouette_score.html) to choose the best value of $k$. Be sure to read the documentation to understand silhouettes, briefly, higher scores are better. Training may take a few seconds. "
   ]
  },
  {
   "cell_type": "code",
   "execution_count": 154,
   "metadata": {
    "colab": {
     "base_uri": "https://localhost:8080/",
     "height": 282
    },
    "id": "SR8vbpheKmE2",
    "outputId": "da2ea08a-ddf2-455a-8d55-dd5fb833514a"
   },
   "outputs": [
    {
     "name": "stdout",
     "output_type": "stream",
     "text": [
      "0.5436366186277757 0.3540044131204636\n"
     ]
    },
    {
     "data": {
      "image/png": "[encoded data removed]",
      "text/plain": [
       "<Figure size 432x288 with 1 Axes>"
      ]
     },
     "metadata": {
      "needs_background": "light"
     },
     "output_type": "display_data"
    }
   ],
   "source": [
    "from sklearn.metrics import silhouette_score\n",
    "\n",
    "krange = list(range(2,16))\n",
    "cols = ['TotalSales', 'OrderCount',  'TotalItems', 'AvgOrderValue']\n",
    "X = normalized_df[cols].values\n",
    "\n",
    "silhouette = []\n",
    "\n",
    "\n",
    "# Iterate over the range of K values, which denotes the number of clusters\n",
    "for n in krange:\n",
    "    kmeans = KMeans(n_clusters=n).fit(X)\n",
    "    labels = kmeans.labels_\n",
    "    silhouette.append(silhouette_score(X, labels))\n",
    "    \n",
    "\n",
    "print(max(silhouette), min(silhouette))\n",
    "\n",
    "plt.plot(krange, silhouette)\n",
    "plt.xlabel(\"$K$\")\n",
    "plt.ylabel(\"Silhouette Score\")\n",
    "plt.show()"
   ]
  },
  {
   "cell_type": "markdown",
   "metadata": {
    "id": "fvj9rg4J8f4Z"
   },
   "source": [
    "##Investigate the clusters (4 points)\n",
    "Using the plot above, identify the best choice of $k$. Run $k$-means clustering with the chosen $k$, then create a new dataframe with an additional column showing the cluster of every customer. You should investigate your clusters to make sure a cluster doesn't just consist of one or two outliers. "
   ]
  },
  {
   "cell_type": "code",
   "execution_count": 164,
   "metadata": {
    "colab": {
     "base_uri": "https://localhost:8080/",
     "height": 173
    },
    "id": "01EVV2KVMtVc",
    "outputId": "6406df54-ff1d-4707-e48c-97293584d615",
    "scrolled": true
   },
   "outputs": [
    {
     "data": {
      "text/html": [
       "<div>\n",
       "<style scoped>\n",
       "    .dataframe tbody tr th:only-of-type {\n",
       "        vertical-align: middle;\n",
       "    }\n",
       "\n",
       "    .dataframe tbody tr th {\n",
       "        vertical-align: top;\n",
       "    }\n",
       "\n",
       "    .dataframe thead th {\n",
       "        text-align: right;\n",
       "    }\n",
       "</style>\n",
       "<table border=\"1\" class=\"dataframe\">\n",
       "  <thead>\n",
       "    <tr style=\"text-align: right;\">\n",
       "      <th></th>\n",
       "      <th>TotalSales</th>\n",
       "      <th>OrderCount</th>\n",
       "      <th>TotalItems</th>\n",
       "      <th>AvgOrderValue</th>\n",
       "    </tr>\n",
       "    <tr>\n",
       "      <th>Cluster</th>\n",
       "      <th></th>\n",
       "      <th></th>\n",
       "      <th></th>\n",
       "      <th></th>\n",
       "    </tr>\n",
       "  </thead>\n",
       "  <tbody>\n",
       "    <tr>\n",
       "      <th>0</th>\n",
       "      <td>2755</td>\n",
       "      <td>2755</td>\n",
       "      <td>2755</td>\n",
       "      <td>2755</td>\n",
       "    </tr>\n",
       "    <tr>\n",
       "      <th>1</th>\n",
       "      <td>842</td>\n",
       "      <td>842</td>\n",
       "      <td>842</td>\n",
       "      <td>842</td>\n",
       "    </tr>\n",
       "    <tr>\n",
       "      <th>2</th>\n",
       "      <td>244</td>\n",
       "      <td>244</td>\n",
       "      <td>244</td>\n",
       "      <td>244</td>\n",
       "    </tr>\n",
       "  </tbody>\n",
       "</table>\n",
       "</div>"
      ],
      "text/plain": [
       "         TotalSales  OrderCount  TotalItems  AvgOrderValue\n",
       "Cluster                                                   \n",
       "0              2755        2755        2755           2755\n",
       "1               842         842         842            842\n",
       "2               244         244         244            244"
      ]
     },
     "execution_count": 164,
     "metadata": {},
     "output_type": "execute_result"
    }
   ],
   "source": [
    "#Set the K value and run the kmeans algorithm on the normalized dataframe\n",
    "k =  3\n",
    "kmeans =  KMeans(n_clusters=k).fit(X)\n",
    "\n",
    "#copy the columns from normalized_df \n",
    "cluster_df = normalized_df[cols].copy(deep=True)\n",
    "\n",
    "#Add the labels from the k-means algoithm to the cluster column in cluster_df\n",
    "cluster_df['Cluster'] = kmeans.labels_\n",
    "\n",
    "#Run groupby to see how many instances are in each cluster\n",
    "cluster_df.groupby('Cluster').count()\n"
   ]
  },
  {
   "cell_type": "markdown",
   "metadata": {
    "id": "wIKuNv4llLnD"
   },
   "source": [
    "Create a new dataframe with the centroid of each cluster. You can easily access the centroids in your estimators `cluster_centers_` attribute. "
   ]
  },
  {
   "cell_type": "code",
   "execution_count": 165,
   "metadata": {
    "colab": {
     "base_uri": "https://localhost:8080/",
     "height": 142
    },
    "id": "tFp15vYbMweF",
    "outputId": "35e1fdc0-5f76-45de-d6db-e57d8953437f"
   },
   "outputs": [
    {
     "data": {
      "text/html": [
       "<div>\n",
       "<style scoped>\n",
       "    .dataframe tbody tr th:only-of-type {\n",
       "        vertical-align: middle;\n",
       "    }\n",
       "\n",
       "    .dataframe tbody tr th {\n",
       "        vertical-align: top;\n",
       "    }\n",
       "\n",
       "    .dataframe thead th {\n",
       "        text-align: right;\n",
       "    }\n",
       "</style>\n",
       "<table border=\"1\" class=\"dataframe\">\n",
       "  <thead>\n",
       "    <tr style=\"text-align: right;\">\n",
       "      <th></th>\n",
       "      <th>TotalSales</th>\n",
       "      <th>OrderCount</th>\n",
       "      <th>TotalItems</th>\n",
       "      <th>AvgOrderValue</th>\n",
       "    </tr>\n",
       "  </thead>\n",
       "  <tbody>\n",
       "    <tr>\n",
       "      <th>0</th>\n",
       "      <td>-0.509306</td>\n",
       "      <td>-0.409717</td>\n",
       "      <td>-0.422617</td>\n",
       "      <td>-0.284992</td>\n",
       "    </tr>\n",
       "    <tr>\n",
       "      <th>1</th>\n",
       "      <td>1.391095</td>\n",
       "      <td>1.491340</td>\n",
       "      <td>1.194369</td>\n",
       "      <td>0.130675</td>\n",
       "    </tr>\n",
       "    <tr>\n",
       "      <th>2</th>\n",
       "      <td>0.950144</td>\n",
       "      <td>-0.520240</td>\n",
       "      <td>0.650215</td>\n",
       "      <td>2.766906</td>\n",
       "    </tr>\n",
       "  </tbody>\n",
       "</table>\n",
       "</div>"
      ],
      "text/plain": [
       "   TotalSales  OrderCount  TotalItems  AvgOrderValue\n",
       "0   -0.509306   -0.409717   -0.422617      -0.284992\n",
       "1    1.391095    1.491340    1.194369       0.130675\n",
       "2    0.950144   -0.520240    0.650215       2.766906"
      ]
     },
     "execution_count": 165,
     "metadata": {},
     "output_type": "execute_result"
    }
   ],
   "source": [
    "# Store the centroids in a dataframe\n",
    "centers = kmeans.cluster_centers_\n",
    "\n",
    "#Create a df using the centroids stored in the previous step\n",
    "cluster_center_df = pd.DataFrame(centers)\n",
    "\n",
    "#Rename the columns of your df to the correct names\n",
    "cust_df_colnames = ['TotalSales', 'OrderCount', 'TotalItems', 'AvgOrderValue']\n",
    "cluster_center_df.columns = cust_df_colnames\n",
    "\n",
    "cluster_center_df"
   ]
  },
  {
   "cell_type": "markdown",
   "metadata": {
    "id": "2itsoJWO_D8m"
   },
   "source": [
    "### Visualize and interpret clusters (8 points)\n",
    "Create scatter plots to visualize the relationship between your features and clusters. The template iterates over the respective x, y axes of each plot. You should create one pane with four plots using `cluster_df`. \n",
    "\n",
    "The plots in the second pane were created by first ranking the data in `cluster_df`. You can try to do this if it helps you interpret the clusters, but will not be penalised if you don't. "
   ]
  },
  {
   "cell_type": "code",
   "execution_count": 190,
   "metadata": {
    "colab": {
     "base_uri": "https://localhost:8080/",
     "height": 653
    },
    "id": "q36RqQANvQCB",
    "outputId": "dd293833-de9d-4e81-95e3-9f6f6bf69228",
    "scrolled": true
   },
   "outputs": [
    {
     "data": {
      "image/png": "[encoded data removed]",
      "text/plain": [
       "<Figure size 1800x360 with 4 Axes>"
      ]
     },
     "metadata": {
      "needs_background": "light"
     },
     "output_type": "display_data"
    }
   ],
   "source": [
    "plots = [('OrderCount', 'AvgOrderValue'),   ('OrderCount', 'TotalItems'), ('TotalItems', 'AvgOrderValue') , ('TotalSales', 'OrderCount') ] \n",
    "colors = [ 'blue', 'orange', 'green', 'purple']\n",
    "\n",
    "\n",
    "plot_df = cluster_df\n",
    "fig, axs = plt.subplots(1, len(plots) , figsize=(25, 5))\n",
    "\n",
    "\n",
    "for idx, col_pair in zip(range(len(plots)), plots): \n",
    "\n",
    "  #Iterate through all the clusters\n",
    "    for cluster in range(k):\n",
    "        \n",
    "        color_in = colors[cluster]\n",
    "\n",
    "    #Create a scatter plot based on the X and Y axis in each plot, p using the colors variable\n",
    "    labels = plot_df[\"Cluster\"]\n",
    "    \n",
    "    axs[idx].scatter(plot_df[col_pair[0]], plot_df[col_pair[1]], c = labels)\n",
    "        \n",
    "    #Set axis labels\n",
    "    axs[idx].set_xlabel(col_pair[0])\n",
    "    axs[idx].set_ylabel(col_pair[1])\n",
    "    \n",
    "    axs[idx].grid()\n",
    "\n"
   ]
  },
  {
   "cell_type": "markdown",
   "metadata": {
    "id": "INXF682VYzzq"
   },
   "source": [
    "Thouroughly characterize the types of customers and their purchase behaviour for each cluster. (5 points)"
   ]
  },
  {
   "cell_type": "markdown",
   "metadata": {
    "id": "evAxGVlg1sS0"
   },
   "source": [
    "Yellow = cluster 2\n",
    "purple = cluster 0\n",
    "blue = cluster 1\n",
    "\n",
    "Cluster 2 appears to be an active customer at the company. The groups has overall high total sales, though their order count seems to be significantly less than the other clusters. Additionally, they have what looks like the highest average order value. To characterize this group I would liken them to a customer that buys in bulk at high quantities.\n",
    "\n",
    "Cluster 0 customers seem spend the least out of the three for the amount of orders that the place. I think you could classify them as a normal shopper who purchases when necessary. In terms of purchasing behavior, maybe they shop when they have discounts or deals.\n",
    "\n",
    "Cluster 1 looks a little more all over the board then the other clusters. It seems that there are people within cluster 1 that have placed a varying range of order numbers. However, their total sales seem to be pretty consistently high. They also have varying average order values. With their purchasing behavior they are more in the middle I would say.\n"
   ]
  },
  {
   "cell_type": "markdown",
   "metadata": {
    "id": "_sInV8UGCETO"
   },
   "source": [
    "###Dive Deeper into the High Value Cluster and display the Top Products (4 points)\n",
    "Investigate the cluster with the highest order value (on average) further by printing the top 10 best-selling products in the cluster. You will need to use your original dataframe coupled with the cluster number of each customer. "
   ]
  },
  {
   "cell_type": "code",
   "execution_count": 128,
   "metadata": {
    "colab": {
     "base_uri": "https://localhost:8080/",
     "height": 390
    },
    "id": "pr-5j9M0ND_V",
    "outputId": "dc26a689-eca1-4626-e519-23ea7c5a9128"
   },
   "outputs": [
    {
     "name": "stdout",
     "output_type": "stream",
     "text": [
      "[22423, 22960, 22720, '85099B', 21212, 'POST', 22961, 22086, 23203, 84879]\n",
      "22423     89\n",
      "22960     61\n",
      "22720     58\n",
      "85099B    55\n",
      "21212     53\n",
      "POST      51\n",
      "22961     48\n",
      "22086     46\n",
      "23203     45\n",
      "84879     44\n",
      "Name: StockCode, dtype: int64\n"
     ]
    }
   ],
   "source": [
    "high_value_cluster_number =  cluster_df.groupby('Cluster').mean()\n",
    "\n",
    "# filter to get the customers in the high value cluster\n",
    "high_value_cluster_number = high_value_cluster_number[\"AvgOrderValue\"].idxmax()\n",
    "\n",
    "\n",
    "# identify the most commonly purchased items\n",
    "c = cluster_df.loc[cluster_df[\"Cluster\"] == high_value_cluster_number]\n",
    "c = pd.DataFrame(c.index)\n",
    "\n",
    "\n",
    "original_s = df.loc[df[\"CustomerID\"].isin(c[\"CustomerID\"])]\n",
    "\n",
    "products = original_s['StockCode'].value_counts()[:10].index.tolist()\n",
    "productslist = original_s['StockCode'].value_counts().nlargest(10)\n",
    "\n",
    "#prints products alone\n",
    "print(products)\n",
    "\n",
    "#prints frequency\n",
    "print(productslist)\n"
   ]
  },
  {
   "cell_type": "markdown",
   "metadata": {
    "id": "wrSlZIn6Kbpw"
   },
   "source": [
    "## Inform Strategy (6 points)\n",
    "Now that you have a better understanding of customers' purchase behaviour, how would you change your practices?\n",
    "\n",
    "Write 1-2 sentences with a business recommendation (this can cover marketing, operations,  etc. as long as it refers back to the results of your cluster analysis) for each of the clusters. "
   ]
  },
  {
   "cell_type": "markdown",
   "metadata": {
    "id": "2M6cYUOy10Xi"
   },
   "source": [
    "The cluster's give us a lot of insight into different customer segments. From a business standpoint, you may want to target your marketing towards individuals within cluster 2 (those with the highest average order value) or individuals like them. Operationally, you can focus on keeping the popular products within cluster 2 stocked since you know they high demand for high-paying customers."
   ]
  },
  {
   "cell_type": "markdown",
   "metadata": {
    "id": "OZrltZRoVAX4"
   },
   "source": [
    "## Preparing for submission\n",
    "\n",
    "To convert your notebook to html, change the string below to reflect the location of the notebook in your Google Drive. "
   ]
  },
  {
   "cell_type": "code",
   "execution_count": 129,
   "metadata": {
    "id": "7rGVofznVH9S"
   },
   "outputs": [],
   "source": [
    "path_to_file = '/content/drive/My Drive/somepath/PA2-market-segmentation.ipynb'"
   ]
  },
  {
   "cell_type": "markdown",
   "metadata": {
    "id": "6QjLz9ITVKD6"
   },
   "source": [
    "Now execute the code cell below. After execution there should be an html file in the same Google Drive folder  where this notebook is located. Download the html file, open with your browser and print to pdf, then submit the pdf on the course page along with your notebook. \n",
    "\n",
    "**NOTE:** this seems to fail if your path contains spaces - move it to a location without spaces and try again. "
   ]
  },
  {
   "cell_type": "code",
   "execution_count": 130,
   "metadata": {
    "id": "T-lBK_QkVKZI"
   },
   "outputs": [
    {
     "name": "stderr",
     "output_type": "stream",
     "text": [
      "'apt' is not recognized as an internal or external command,\n",
      "operable program or batch file.\n",
      "'apt' is not recognized as an internal or external command,\n",
      "operable program or batch file.\n"
     ]
    },
    {
     "ename": "ModuleNotFoundError",
     "evalue": "No module named 'google'",
     "output_type": "error",
     "traceback": [
      "\u001b[1;31m---------------------------------------------------------------------------\u001b[0m",
      "\u001b[1;31mModuleNotFoundError\u001b[0m                       Traceback (most recent call last)",
      "\u001b[1;32m~\\AppData\\Local\\Temp/ipykernel_113740/2037373849.py\u001b[0m in \u001b[0;36m<module>\u001b[1;34m\u001b[0m\n\u001b[0;32m      4\u001b[0m \u001b[1;32mimport\u001b[0m \u001b[0mre\u001b[0m\u001b[1;33m,\u001b[0m \u001b[0mpathlib\u001b[0m\u001b[1;33m,\u001b[0m \u001b[0mshutil\u001b[0m\u001b[1;33m\u001b[0m\u001b[1;33m\u001b[0m\u001b[0m\n\u001b[0;32m      5\u001b[0m \u001b[1;33m\u001b[0m\u001b[0m\n\u001b[1;32m----> 6\u001b[1;33m \u001b[1;32mfrom\u001b[0m \u001b[0mgoogle\u001b[0m\u001b[1;33m.\u001b[0m\u001b[0mcolab\u001b[0m \u001b[1;32mimport\u001b[0m \u001b[0mdrive\u001b[0m\u001b[1;33m\u001b[0m\u001b[1;33m\u001b[0m\u001b[0m\n\u001b[0m\u001b[0;32m      7\u001b[0m \u001b[0mdrive\u001b[0m\u001b[1;33m.\u001b[0m\u001b[0mmount\u001b[0m\u001b[1;33m(\u001b[0m\u001b[1;34m'/content/drive'\u001b[0m\u001b[1;33m)\u001b[0m\u001b[1;33m\u001b[0m\u001b[1;33m\u001b[0m\u001b[0m\n",
      "\u001b[1;31mModuleNotFoundError\u001b[0m: No module named 'google'"
     ]
    }
   ],
   "source": [
    "!apt update\n",
    "!apt install texlive-xetex texlive-fonts-recommended texlive-generic-recommended\n",
    "\n",
    "import re, pathlib, shutil\n",
    "\n",
    "from google.colab import drive\n",
    "drive.mount('/content/drive')"
   ]
  },
  {
   "cell_type": "code",
   "execution_count": null,
   "metadata": {
    "id": "1-OvS2q5w-Ii"
   },
   "outputs": [],
   "source": [
    "nbpath =  pathlib.PosixPath(path_to_file)\n",
    "!jupyter nbconvert \"{nbpath.as_posix()}\" --to html --output \"{nbpath.stem.replace(\" \", \"_\")}\""
   ]
  },
  {
   "cell_type": "markdown",
   "metadata": {
    "id": "nc0Nh6819aGn"
   },
   "source": [
    "*Acknowledgements:* This example makes use of the [UCI MLR dataset on online retail](http://archive.ics.uci.edu/ml/datasets/online+retail). \n",
    "Much of this exercise is based on an exercise in  \"Hands-On Data Science for Marketing\" by Packt  and a treatment of that by Mike Nemke."
   ]
  }
 ],
 "metadata": {
  "colab": {
   "collapsed_sections": [],
   "name": "PA2-market-segmentation.ipynb",
   "provenance": [],
   "toc_visible": true
  },
  "kernelspec": {
   "display_name": "Python 3 (ipykernel)",
   "language": "python",
   "name": "python3"
  },
  "language_info": {
   "codemirror_mode": {
    "name": "ipython",
    "version": 3
   },
   "file_extension": ".py",
   "mimetype": "text/x-python",
   "name": "python",
   "nbconvert_exporter": "python",
   "pygments_lexer": "ipython3",
   "version": "3.8.8"
  }
 },
 "nbformat": 4,
 "nbformat_minor": 1
}
